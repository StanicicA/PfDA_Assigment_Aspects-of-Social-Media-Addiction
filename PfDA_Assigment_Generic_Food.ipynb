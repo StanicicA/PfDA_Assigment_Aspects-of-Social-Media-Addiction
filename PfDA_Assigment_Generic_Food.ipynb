{
 "cells": [
  {
   "cell_type": "markdown",
   "id": "a1ec8033",
   "metadata": {},
   "source": [
    "# Generic Food"
   ]
  },
  {
   "cell_type": "code",
   "execution_count": 35,
   "id": "40f058fc",
   "metadata": {},
   "outputs": [],
   "source": [
    " # Database of 900 common Foods being analysed using CSV File and the folowing\n",
    "    \n",
    "import numpy as np\n",
    "import pandas as pd\n",
    "import matplotlib.pyplot as plt"
   ]
  },
  {
   "cell_type": "markdown",
   "id": "cc59c74b",
   "metadata": {},
   "source": [
    "![Picture of Food](https://www.realsimple.com/thmb/mp_03UKKId3Rcz7ErkxNZvVgS8M=/1500x0/filters:no_upscale():max_bytes(150000):strip_icc()/non-perishable-emergency-food-natural-disaster-pandemic-epidemic-eb5d2e877e8f494591b83ad5529cc108.jpg)"
   ]
  },
  {
   "cell_type": "code",
   "execution_count": 36,
   "id": "06c14d5f",
   "metadata": {},
   "outputs": [
    {
     "data": {
      "text/html": [
       "<div>\n",
       "<style scoped>\n",
       "    .dataframe tbody tr th:only-of-type {\n",
       "        vertical-align: middle;\n",
       "    }\n",
       "\n",
       "    .dataframe tbody tr th {\n",
       "        vertical-align: top;\n",
       "    }\n",
       "\n",
       "    .dataframe thead th {\n",
       "        text-align: right;\n",
       "    }\n",
       "</style>\n",
       "<table border=\"1\" class=\"dataframe\">\n",
       "  <thead>\n",
       "    <tr style=\"text-align: right;\">\n",
       "      <th></th>\n",
       "      <th>FOOD NAME</th>\n",
       "      <th>SCIENTIFIC NAME</th>\n",
       "      <th>GROUP</th>\n",
       "      <th>SUB GROUP</th>\n",
       "    </tr>\n",
       "  </thead>\n",
       "  <tbody>\n",
       "    <tr>\n",
       "      <th>0</th>\n",
       "      <td>Angelica</td>\n",
       "      <td>Angelica keiskei</td>\n",
       "      <td>Herbs and Spices</td>\n",
       "      <td>Herbs</td>\n",
       "    </tr>\n",
       "    <tr>\n",
       "      <th>1</th>\n",
       "      <td>Savoy cabbage</td>\n",
       "      <td>Brassica oleracea var. sabauda</td>\n",
       "      <td>Vegetables</td>\n",
       "      <td>Cabbages</td>\n",
       "    </tr>\n",
       "    <tr>\n",
       "      <th>2</th>\n",
       "      <td>Silver linden</td>\n",
       "      <td>Tilia argentea</td>\n",
       "      <td>Herbs and Spices</td>\n",
       "      <td>Herbs</td>\n",
       "    </tr>\n",
       "    <tr>\n",
       "      <th>3</th>\n",
       "      <td>Kiwi</td>\n",
       "      <td>Actinidia chinensis</td>\n",
       "      <td>Fruits</td>\n",
       "      <td>Tropical fruits</td>\n",
       "    </tr>\n",
       "    <tr>\n",
       "      <th>4</th>\n",
       "      <td>Allium (Onion)</td>\n",
       "      <td>Allium</td>\n",
       "      <td>Vegetables</td>\n",
       "      <td>Onion-family vegetables</td>\n",
       "    </tr>\n",
       "    <tr>\n",
       "      <th>...</th>\n",
       "      <td>...</td>\n",
       "      <td>...</td>\n",
       "      <td>...</td>\n",
       "      <td>...</td>\n",
       "    </tr>\n",
       "    <tr>\n",
       "      <th>901</th>\n",
       "      <td>White cabbage</td>\n",
       "      <td>Brassica oleracea L. var. capitata L. f. alba DC.</td>\n",
       "      <td>Vegetables</td>\n",
       "      <td>Cabbages</td>\n",
       "    </tr>\n",
       "    <tr>\n",
       "      <th>902</th>\n",
       "      <td>Romaine lettuce</td>\n",
       "      <td>Lactuca sativa L. var. longifolia</td>\n",
       "      <td>Vegetables</td>\n",
       "      <td>Leaf vegetables</td>\n",
       "    </tr>\n",
       "    <tr>\n",
       "      <th>903</th>\n",
       "      <td>dumplings</td>\n",
       "      <td>NaN</td>\n",
       "      <td>NaN</td>\n",
       "      <td>NaN</td>\n",
       "    </tr>\n",
       "    <tr>\n",
       "      <th>904</th>\n",
       "      <td>muesli</td>\n",
       "      <td>NaN</td>\n",
       "      <td>NaN</td>\n",
       "      <td>NaN</td>\n",
       "    </tr>\n",
       "    <tr>\n",
       "      <th>905</th>\n",
       "      <td>milk</td>\n",
       "      <td>NaN</td>\n",
       "      <td>NaN</td>\n",
       "      <td>NaN</td>\n",
       "    </tr>\n",
       "  </tbody>\n",
       "</table>\n",
       "<p>906 rows × 4 columns</p>\n",
       "</div>"
      ],
      "text/plain": [
       "           FOOD NAME                                    SCIENTIFIC NAME  \\\n",
       "0           Angelica                                   Angelica keiskei   \n",
       "1      Savoy cabbage                     Brassica oleracea var. sabauda   \n",
       "2      Silver linden                                     Tilia argentea   \n",
       "3               Kiwi                                Actinidia chinensis   \n",
       "4     Allium (Onion)                                             Allium   \n",
       "..               ...                                                ...   \n",
       "901    White cabbage  Brassica oleracea L. var. capitata L. f. alba DC.   \n",
       "902  Romaine lettuce                  Lactuca sativa L. var. longifolia   \n",
       "903        dumplings                                                NaN   \n",
       "904           muesli                                                NaN   \n",
       "905             milk                                                NaN   \n",
       "\n",
       "                GROUP                SUB GROUP  \n",
       "0    Herbs and Spices                    Herbs  \n",
       "1          Vegetables                 Cabbages  \n",
       "2    Herbs and Spices                    Herbs  \n",
       "3              Fruits          Tropical fruits  \n",
       "4          Vegetables  Onion-family vegetables  \n",
       "..                ...                      ...  \n",
       "901        Vegetables                 Cabbages  \n",
       "902        Vegetables          Leaf vegetables  \n",
       "903               NaN                      NaN  \n",
       "904               NaN                      NaN  \n",
       "905               NaN                      NaN  \n",
       "\n",
       "[906 rows x 4 columns]"
      ]
     },
     "execution_count": 36,
     "metadata": {},
     "output_type": "execute_result"
    }
   ],
   "source": [
    "#Imported CSV File for analysing Generic Food\n",
    "pd.read_csv(\"https://raw.githubusercontent.com/SlobodaStudio/food-nlp/master/generic-food.csv\")"
   ]
  },
  {
   "cell_type": "code",
   "execution_count": 39,
   "id": "f44a8f8e",
   "metadata": {},
   "outputs": [
    {
     "name": "stdout",
     "output_type": "stream",
     "text": [
      "       FOOD NAME  SCIENTIFIC NAME          GROUP SUB GROUP\n",
      "count        906              648            903       903\n",
      "unique       906              639             24       123\n",
      "top     Angelica  Capsicum annuum  Aquatic foods    Fishes\n",
      "freq           1                6            166       111\n"
     ]
    }
   ],
   "source": [
    "df = pd.read_csv(\"https://raw.githubusercontent.com/SlobodaStudio/food-nlp/master/generic-food.csv\")\n",
    "# There are 4 columns in total: Name, Scientific name, Group, Sub-group. To see the quantity of each, see below\n",
    "basicstat = (df.describe())\n",
    "print (basicstat)"
   ]
  },
  {
   "cell_type": "code",
   "execution_count": 34,
   "id": "46d60242",
   "metadata": {},
   "outputs": [
    {
     "name": "stdout",
     "output_type": "stream",
     "text": [
      "<class 'pandas.core.frame.DataFrame'>\n",
      "RangeIndex: 906 entries, 0 to 905\n",
      "Data columns (total 4 columns):\n",
      " #   Column           Non-Null Count  Dtype \n",
      "---  ------           --------------  ----- \n",
      " 0   FOOD NAME        906 non-null    object\n",
      " 1   SCIENTIFIC NAME  648 non-null    object\n",
      " 2   GROUP            903 non-null    object\n",
      " 3   SUB GROUP        903 non-null    object\n",
      "dtypes: object(4)\n",
      "memory usage: 28.4+ KB\n",
      "None\n"
     ]
    }
   ],
   "source": [
    "info = df.info ()\n",
    "print (info)"
   ]
  },
  {
   "cell_type": "code",
   "execution_count": 21,
   "id": "9a227d7f",
   "metadata": {},
   "outputs": [
    {
     "data": {
      "text/plain": [
       "1          Vegetables\n",
       "2    Herbs and Spices\n",
       "3              Fruits\n",
       "4          Vegetables\n",
       "Name: GROUP, dtype: object"
      ]
     },
     "execution_count": 21,
     "metadata": {},
     "output_type": "execute_result"
    }
   ],
   "source": [
    "#There are four different objects associated with Food Groups\n",
    "df ['GROUP'][1:5]"
   ]
  },
  {
   "cell_type": "code",
   "execution_count": 24,
   "id": "6e7f7dc3",
   "metadata": {},
   "outputs": [],
   "source": []
  },
  {
   "cell_type": "code",
   "execution_count": null,
   "id": "374e0df0",
   "metadata": {},
   "outputs": [],
   "source": []
  },
  {
   "cell_type": "code",
   "execution_count": 4,
   "id": "01c30784",
   "metadata": {},
   "outputs": [],
   "source": []
  },
  {
   "cell_type": "code",
   "execution_count": 29,
   "id": "5af9b6cf",
   "metadata": {},
   "outputs": [],
   "source": [
    "rng = np.random.default_rng()\n",
    "x = rng.random (10)"
   ]
  },
  {
   "cell_type": "code",
   "execution_count": 30,
   "id": "bc6e8709",
   "metadata": {},
   "outputs": [
    {
     "name": "stdout",
     "output_type": "stream",
     "text": [
      "[0.19414    0.28109012 0.18564426 0.95223767 0.1773396  0.63423874\n",
      " 0.31557558 0.82875375 0.28798554 0.83481343]\n"
     ]
    }
   ],
   "source": [
    "print(x)"
   ]
  },
  {
   "cell_type": "code",
   "execution_count": 31,
   "id": "8bcbd1a3",
   "metadata": {},
   "outputs": [
    {
     "data": {
      "image/png": "[encoded data removed]",
      "text/plain": [
       "<Figure size 432x288 with 1 Axes>"
      ]
     },
     "metadata": {
      "needs_background": "light"
     },
     "output_type": "display_data"
    }
   ],
   "source": [
    "plt.hist(x)\n",
    "plt.show()"
   ]
  },
  {
   "cell_type": "code",
   "execution_count": null,
   "id": "29f7eb41",
   "metadata": {},
   "outputs": [],
   "source": []
  },
  {
   "cell_type": "code",
   "execution_count": null,
   "id": "da0fe88c",
   "metadata": {},
   "outputs": [],
   "source": [
    "Resources:\n",
    "    1. https://www.realsimple.com/food-recipes/shopping-storing/emergency-foods\n",
    "    2. https://data.world/alexandra/generic-food-database/workspace/file?filename=generic-food.csv"
   ]
  }
 ],
 "metadata": {
  "kernelspec": {
   "display_name": "Python 3 (ipykernel)",
   "language": "python",
   "name": "python3"
  },
  "language_info": {
   "codemirror_mode": {
    "name": "ipython",
    "version": 3
   },
   "file_extension": ".py",
   "mimetype": "text/x-python",
   "name": "python",
   "nbconvert_exporter": "python",
   "pygments_lexer": "ipython3",
   "version": "3.9.12"
  }
 },
 "nbformat": 4,
 "nbformat_minor": 5
}
